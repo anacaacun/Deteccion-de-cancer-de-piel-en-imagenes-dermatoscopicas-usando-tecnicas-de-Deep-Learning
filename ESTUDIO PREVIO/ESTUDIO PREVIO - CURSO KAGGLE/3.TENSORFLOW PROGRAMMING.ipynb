{
 "cells": [
  {
   "cell_type": "markdown",
   "metadata": {},
   "source": [
    "**VÍDEO 3:**\n",
    "\n",
    "Utilizaremos un pre-entrenado, un modelo de aprendizaje profundo para clasificar lo que hay en una foto, veremos los pasos a continuación.\n",
    "\n",
    "-Adjuntamos un conjunto de datos que hemos hecho en este ejemplo de kernel y en su espacio de trabajo.\n",
    "-Tb adjuntamos un conjunto de datos con fotos de perros para intentar decirle a este (kernel) los perros se reproducen a partir de su imagen \n",
    "-Elegimos algunas imágenes para probar o modelar y pongo el archivo en una lista (primer codigo) y luego uso el poder unirse a la función de la ruta del sistema operativo Pythons para agregar el nombre del archivo al directorio (img_paths)\n",
    "El resultado final es una lista de rutas a los archivos de imagen para simplificar las cosas\n",
    "Vamos a hacer predicciones:\n",
    "Para eso hacemos un *preprocesamiento* para pasar de la ruta del archivo de imagen a algo que podemos ejecutar a través de nuestro modelo pondremos estos pasos de preprocesamiento en una sola solución llamada lectura e imágenes de preparación de algunas de estas funciones de preprocesamiento de Charis\n",
    "\n",
    "conozcamos los modelos\n",
    "carguemos las imágenes usando la carga\n",
    "las imágenes en una lista: el argumento de tamaño especifica el tamaño o la resoluación del pixel que queremos que tengan las imágenes y cuando modelamos con ellas\n",
    "el modelo de uso fue entrenado con 224 x 224 de resolución, luego se convierte cada imagen en una matriz usando la función de imagen a matriz, creamos un tensor dimensional que combina varias imagenes \n",
    "usamos la funcion de preproceso, esta función hace algo de aritmética en los valores de píxeles dividiendo específicamente los valores en la entrada para que estén todos entre -1 y 1. Esto se hizo \n",
    "\n",
    "lineas básicas: \n",
    "1. my_model : ResNet50 especificamos la ruta del archivo donde hemos almacenado los valores en los filtros convulacionales\n",
    "2. read_and_prep_Images: esta función leer y preprocesar nuestros datos\n",
    "3.my_model.predict: obtenemos las predicciones de nuestro modelo\n",
    "4 decode_predictions: permite extraer las mayores probabilidades para cada imagen, funciona con los resultados de la predicción y le dicen que nos de el top = 3 las 3 probabilidades para cada foto "
   ]
  },
  {
   "cell_type": "markdown",
   "metadata": {},
   "source": [
    "*Elegimos las imágenes para trabajar*"
   ]
  },
  {
   "cell_type": "code",
   "execution_count": null,
   "metadata": {},
   "outputs": [],
   "source": [
    "from os.path import join\n",
    "\n",
    "image_dir = '../input/dog-breed-identification/train/'\n",
    "img_paths = [join(image_dir, filename) for filename in \n",
    "                           ['0c8fe33bd89646b678f6b2891df8a1c6.jpg',\n",
    "                            '0c3b282ecbed1ca9eb17de4cb1b6e326.jpg',\n",
    "                            '04fb4d719e9fe2b6ffe32d9ae7be8a22.jpg',\n",
    "                            '0e79be614f12deb4f7cae18614b7391b.jpg']]"
   ]
  },
  {
   "cell_type": "markdown",
   "metadata": {},
   "source": [
    "*Función para leer y preparar imágenes para modelar*"
   ]
  },
  {
   "cell_type": "code",
   "execution_count": null,
   "metadata": {},
   "outputs": [],
   "source": [
    "import numpy as np\n",
    "from tensorflow.python.keras.applications.resnet50 import preprocess_input\n",
    "from tensorflow.python.keras.preprocessing.image import load_img, img_to_array\n",
    "\n",
    "image_size = 224\n",
    "\n",
    "def read_and_prep_images(img_paths, img_height=image_size, img_width=image_size):\n",
    "    imgs = [load_img(img_path, target_size=(img_height, img_width)) for img_path in img_paths]\n",
    "    img_array = np.array([img_to_array(img) for img in imgs])\n",
    "    output = preprocess_input(img_array)\n",
    "    return(output)"
   ]
  },
  {
   "cell_type": "markdown",
   "metadata": {},
   "source": [
    "*Crear modelo con archivo de pesos pre-entrenado. Hacer predicciones*"
   ]
  },
  {
   "cell_type": "code",
   "execution_count": null,
   "metadata": {},
   "outputs": [],
   "source": [
    "from tensorflow.python.keras.applications import ResNet50\n",
    "\n",
    "my_model = ResNet50(weights='../input/resnet50/resnet50_weights_tf_dim_ordering_tf_kernels.h5')\n",
    "test_data = read_and_prep_images(img_paths)\n",
    "preds = my_model.predict(test_data)"
   ]
  },
  {
   "cell_type": "markdown",
   "metadata": {},
   "source": [
    "*Visualizar predicciones*"
   ]
  },
  {
   "cell_type": "code",
   "execution_count": null,
   "metadata": {},
   "outputs": [],
   "source": [
    "from learntools.deep_learning.decode_predictions import decode_predictions\n",
    "from IPython.display import Image, display\n",
    "\n",
    "most_likely_labels = decode_predictions(preds, top=3, class_list_path='../input/resnet50/imagenet_class_index.json')\n",
    "\n",
    "for i, img_path in enumerate(img_paths):\n",
    "    display(Image(img_path))\n",
    "    print(most_likely_labels[i])"
   ]
  },
  {
   "cell_type": "markdown",
   "metadata": {},
   "source": [
    "EJERCICIO: TensorFlow"
   ]
  },
  {
   "cell_type": "markdown",
   "metadata": {},
   "source": [
    "#Escribirás un par de funciones útiles en los próximos ejercicios. Luego, unirá estas funciones para comparar la efectividad de varios modelos preentrenados para su programa de detección de perros calientes.\n",
    "\n",
    "**Ejercicio 1**\n",
    "Queremos distinguir si una imagen es un hot dog o no. Pero nuestros modelos clasifican las imágenes en 1000 categorías diferentes. Escriba una función que tome las predicciones de los modelos (en el mismo formato que las prescripciones del código de configuración) y devuelva una lista de valores Verdadero y Falso.\n",
    "\n",
    "Algunos consejos:\n",
    "\n",
    "Trabajar iterativamente. Calcule una línea a la vez que supera la función e imprima la salida de esa línea para asegurarse de que sea correcta. Una vez que tenga todo el código que necesita, muévalo a la función is_hot_dog. Si obtiene un error, verifique que haya copiado el código correcto y que no haya omitido nada.\n",
    "Los datos sin procesar que cargamos en img_paths tenían dos imágenes de hot dogs, seguidas de dos imágenes de otros alimentos. Entonces, si ejecuta su función en preds, que representa la salida del modelo en estas imágenes, su función debería devolver [True, True, False, False].\n",
    "Deberá utilizar la función decode_predictions que también se utilizó en el código proporcionado anteriormente. Proporcionamos una línea con esto en la celda de código para que pueda comenzar.\n"
   ]
  },
  {
   "cell_type": "code",
   "execution_count": null,
   "metadata": {},
   "outputs": [],
   "source": [
    "import os\n",
    "from os.path import join\n",
    "\n",
    "\n",
    "hot_dog_image_dir = '../input/hot-dog-not-hot-dog/seefood/train/hot_dog'\n",
    "\n",
    "hot_dog_paths = [join(hot_dog_image_dir,filename) for filename in \n",
    "                            ['1000288.jpg',\n",
    "                             '127117.jpg']]\n",
    "\n",
    "not_hot_dog_image_dir = '../input/hot-dog-not-hot-dog/seefood/train/not_hot_dog'\n",
    "not_hot_dog_paths = [join(not_hot_dog_image_dir, filename) for filename in\n",
    "                            ['823536.jpg',\n",
    "                             '99890.jpg']]\n",
    "\n",
    "img_paths = hot_dog_paths + not_hot_dog_paths"
   ]
  },
  {
   "cell_type": "markdown",
   "metadata": {},
   "source": [
    "2) Ejecute un modelo de ejemplo\n",
    "Aquí está el código que viste en el tutorial. Carga datos, carga un modelo previamente entrenado y hace predicciones. Ejecute esta celda también."
   ]
  },
  {
   "cell_type": "code",
   "execution_count": null,
   "metadata": {},
   "outputs": [],
   "source": [
    "from IPython.display import Image, display\n",
    "from learntools.deep_learning.decode_predictions import decode_predictions\n",
    "import numpy as np\n",
    "from tensorflow.keras.applications.resnet50 import preprocess_input\n",
    "from tensorflow.keras.applications import ResNet50\n",
    "from tensorflow.keras.preprocessing.image import load_img, img_to_array\n",
    "\n",
    "\n",
    "image_size = 224\n",
    "\n",
    "def read_and_prep_images(img_paths, img_height=image_size, img_width=image_size):\n",
    "    imgs = [load_img(img_path, target_size=(img_height, img_width)) for img_path in img_paths]\n",
    "    img_array = np.array([img_to_array(img) for img in imgs])\n",
    "    output = preprocess_input(img_array)\n",
    "    return(output)\n",
    "\n",
    "\n",
    "my_model = ResNet50(weights='../input/resnet50/resnet50_weights_tf_dim_ordering_tf_kernels.h5')\n",
    "test_data = read_and_prep_images(img_paths)\n",
    "preds = my_model.predict(test_data)\n",
    "\n",
    "most_likely_labels = decode_predictions(preds, top=3)"
   ]
  },
  {
   "cell_type": "markdown",
   "metadata": {},
   "source": [
    "3) Visualizar predicciones"
   ]
  },
  {
   "cell_type": "code",
   "execution_count": null,
   "metadata": {},
   "outputs": [],
   "source": [
    "for i, img_path in enumerate(img_paths):\n",
    "    display(Image(img_path))\n",
    "    print(most_likely_labels[i])"
   ]
  },
  {
   "cell_type": "markdown",
   "metadata": {},
   "source": [
    "4) Configurar verificación de código\n",
    "Como último paso antes de escribir su propio código, ejecute la siguiente celda para permitir comentarios sobre su código."
   ]
  },
  {
   "cell_type": "code",
   "execution_count": null,
   "metadata": {},
   "outputs": [],
   "source": [
    "# Set up code checking\n",
    "from learntools.core import binder\n",
    "binder.bind(globals())\n",
    "from learntools.deep_learning.exercise_3 import *\n",
    "print(\"Setup Complete\")"
   ]
  },
  {
   "cell_type": "markdown",
   "metadata": {},
   "source": [
    "**RESOLUCIÓN EJERCICIO 1**"
   ]
  },
  {
   "cell_type": "code",
   "execution_count": null,
   "metadata": {},
   "outputs": [],
   "source": [
    "# Experiment with code outside the function, then move it into the function once you think it is right\n",
    "\n",
    "# the following lines are given as a hint to get you started\n",
    "decoded = decode_predictions(preds, top=1)\n",
    "print(decoded)\n",
    "\n",
    "def is_hot_dog(preds):\n",
    "    '''\n",
    "    inputs:\n",
    "    preds_array:  array of predictions from pre-trained model\n",
    "\n",
    "    outputs:\n",
    "    is_hot_dog_list: a list indicating which predictions show hotdog as the most likely label\n",
    "    '''\n",
    "    pass\n",
    "    \n",
    "# Check your answer\n",
    "q_1.check()"
   ]
  },
  {
   "cell_type": "markdown",
   "metadata": {},
   "source": [
    "**Ejercicio 2:** evaluar la precisión del modelo\n",
    "Tienes un modelo (llamado my_model). ¿Es lo suficientemente bueno para construir su aplicación?\n",
    "\n",
    "Averigüe escribiendo una función que calcule la precisión de un modelo (fracción correcta). Probará un modelo alternativo en el siguiente paso. Así que pondremos esta lógica en una función reutilizable que toma los datos y el modelo como argumentos, y devuelve la precisión.\n",
    "\n",
    "Consejos:\n",
    "\n",
    "Use la función is_hot_dog de arriba para ayudar a escribir su función\n",
    "Para ahorrarle algo de desplazamiento, aquí está el código de arriba donde usamos un modelo TensorFlow para hacer predicciones:"
   ]
  },
  {
   "cell_type": "code",
   "execution_count": 7,
   "metadata": {},
   "outputs": [
    {
     "ename": "NameError",
     "evalue": "name 'ResNet50' is not defined",
     "output_type": "error",
     "traceback": [
      "\u001b[1;31m---------------------------------------------------------------------------\u001b[0m",
      "\u001b[1;31mNameError\u001b[0m                                 Traceback (most recent call last)",
      "\u001b[1;32m<ipython-input-7-8590479f0d8a>\u001b[0m in \u001b[0;36m<module>\u001b[1;34m\u001b[0m\n\u001b[1;32m----> 1\u001b[1;33m \u001b[0mmy_model\u001b[0m \u001b[1;33m=\u001b[0m \u001b[0mResNet50\u001b[0m\u001b[1;33m(\u001b[0m\u001b[0mweights\u001b[0m\u001b[1;33m=\u001b[0m\u001b[1;34m'../input/resnet50/resnet50_weights_tf_dim_ordering_tf_kernels.h5'\u001b[0m\u001b[1;33m)\u001b[0m\u001b[1;33m\u001b[0m\u001b[1;33m\u001b[0m\u001b[0m\n\u001b[0m\u001b[0;32m      2\u001b[0m \u001b[0mtest_data\u001b[0m \u001b[1;33m=\u001b[0m \u001b[0mread_and_prep_images\u001b[0m\u001b[1;33m(\u001b[0m\u001b[0mimg_paths\u001b[0m\u001b[1;33m)\u001b[0m\u001b[1;33m\u001b[0m\u001b[1;33m\u001b[0m\u001b[0m\n\u001b[0;32m      3\u001b[0m \u001b[0mpreds\u001b[0m \u001b[1;33m=\u001b[0m \u001b[0mmy_model\u001b[0m\u001b[1;33m.\u001b[0m\u001b[0mpredict\u001b[0m\u001b[1;33m(\u001b[0m\u001b[0mtest_data\u001b[0m\u001b[1;33m)\u001b[0m\u001b[1;33m\u001b[0m\u001b[1;33m\u001b[0m\u001b[0m\n",
      "\u001b[1;31mNameError\u001b[0m: name 'ResNet50' is not defined"
     ]
    }
   ],
   "source": [
    "my_model = ResNet50(weights='../input/resnet50/resnet50_weights_tf_dim_ordering_tf_kernels.h5')\n",
    "test_data = read_and_prep_images(img_paths)\n",
    "preds = my_model.predict(test_data)"
   ]
  },
  {
   "cell_type": "code",
   "execution_count": null,
   "metadata": {},
   "outputs": [],
   "source": [
    "def calc_accuracy(model, paths_to_hotdog_images, paths_to_other_images):\n",
    "    pass\n",
    "\n",
    "# Code to call calc_accuracy.  my_model, hot_dog_paths and not_hot_dog_paths were created in the setup code\n",
    "my_model_accuracy = calc_accuracy(my_model, hot_dog_paths, not_hot_dog_paths)\n",
    "print(\"Fraction correct in small test set: {}\".format(my_model_accuracy))\n",
    "\n",
    "# Check your answer\n",
    "q_2.check()"
   ]
  },
  {
   "cell_type": "markdown",
   "metadata": {},
   "source": [
    "Ejercicio 3:\n",
    "Hay otros modelos además del modelo ResNet (que hemos cargado). Por ejemplo, un ganador anterior de la competencia ImageNet es el modelo VGG16. No se preocupe por las diferencias entre estos modelos todavía. Volveremos a eso más tarde. Por ahora, solo concéntrese en la mecánica de aplicar estos modelos a un problema.\n",
    "\n",
    "El código utilizado para cargar un modelo PreNet entrenado fue"
   ]
  },
  {
   "cell_type": "code",
   "execution_count": null,
   "metadata": {},
   "outputs": [],
   "source": [
    "my_model = ResNet50(weights='../input/resnet50/resnet50_weights_tf_dim_ordering_tf_kernels.h5')"
   ]
  },
  {
   "cell_type": "markdown",
   "metadata": {},
   "source": [
    "Los pesos para el modelo se almacenan en"
   ]
  },
  {
   "cell_type": "code",
   "execution_count": null,
   "metadata": {},
   "outputs": [],
   "source": [
    "../input/vgg16/vgg16_weights_tf_dim_ordering_tf_kernels.h5`."
   ]
  },
  {
   "cell_type": "markdown",
   "metadata": {},
   "source": [
    "En la celda a continuación, cree un modelo VGG16 con los pesos precargados. Luego use su función `calc_accuracy` para determinar qué fracción de imágenes clasifica correctamente el modelo VGG16. ¿Es mejor o peor que el modelo PreNet entrenado?"
   ]
  },
  {
   "cell_type": "code",
   "execution_count": null,
   "metadata": {},
   "outputs": [],
   "source": [
    "# import the model\n",
    "from tensorflow.keras.applications import VGG16\n",
    "\n",
    "\n",
    "vgg16_model = ____\n",
    "# calculate accuracy on small dataset as a test\n",
    "vgg16_accuracy = ____\n",
    "\n",
    "print(\"Fraction correct in small dataset: {}\".format(vgg16_accuracy))\n",
    "\n",
    "# Check your answer\n",
    "q_3.check()"
   ]
  },
  {
   "cell_type": "markdown",
   "metadata": {},
   "source": [
    "Descomente la línea correspondiente a continuación si desea una pista o la solución"
   ]
  },
  {
   "cell_type": "code",
   "execution_count": null,
   "metadata": {},
   "outputs": [],
   "source": [
    "#q_3.hint()\n",
    "#q_3.solution()"
   ]
  },
  {
   "cell_type": "markdown",
   "metadata": {},
   "source": [
    "Si este modelo se usa para una aplicación que se ejecuta en un teléfono, ¿qué factores, además de la precisión, podrían interesarle? Después de pensarlo, sigue abajo."
   ]
  }
 ],
 "metadata": {
  "kernelspec": {
   "display_name": "Python 3",
   "language": "python",
   "name": "python3"
  },
  "language_info": {
   "codemirror_mode": {
    "name": "ipython",
    "version": 3
   },
   "file_extension": ".py",
   "mimetype": "text/x-python",
   "name": "python",
   "nbconvert_exporter": "python",
   "pygments_lexer": "ipython3",
   "version": "3.7.7"
  }
 },
 "nbformat": 4,
 "nbformat_minor": 2
}
