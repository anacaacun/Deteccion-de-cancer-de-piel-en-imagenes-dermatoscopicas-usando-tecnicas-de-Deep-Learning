{
 "cells": [
  {
   "cell_type": "markdown",
   "metadata": {},
   "source": [
    "Es un truco.\n",
    "Coger una foto, hacerle espejo y tener así una \"escena urbana\" para poder entrenar nuestro modelo con la imagen original y con la imagen especular.\n",
    "Esto se hace con el argumento de **volteo horizontal** en el generador de datos de imagen (horizontal_flip = True):\n",
    "\n",
    "**date_generator_with_aug = ImageDataGenerator( preprocesing_Function = preprocess_input, horizontal_flip = True)\n",
    "\n",
    "Si antes teníamos 72 imágenes, ahora tendríamos el doble.\n",
    "\n",
    "Hay casos en los que la imagen especular de algo no debe clasificarse igual que la imagen original, por ejemplo la señal de stop en especular no dice stop sino \"post\". Habría que juzgar caso a caso a ver si tiene sentido.\n",
    "\n",
    "Una forma de mostrar esto en el modelo es la siguiente:\n",
    "escribiendo generador de datos de imagen y un signo de interrogación.\n",
    "\n",
    "Por ejemplo: podríamos recortar ligeramente la foto desplazándola ligeramente horizontal o verticalmente y agregar comandos para cambiar aleatoriamente parte de la imagen que entrenamos en un 20% más a cada lado y un 20% más arriba o abajo, estableciendo el rango de cambio y  el rango de cambio de altura a 0.2 :\n",
    "\n",
    "**ImageDataGenerator(preprocessing_function = preprocess_input, horizontal_flip = True, width_shift_range = 0.2, height_shift_range = 0.2) **\n",
    "\n",
    "Así, pasamos de tener 72 imágenes RAW a obtener muchas variaciones diferentes de ellas \n",
    "Habría que entrenar el modelo nuevo contra el modelo anterior en el que no realizamos el aumento de datos, para esto:\n",
    "1.Uso una iamgen de datos:\n",
    "\n",
    "**ImageDataGenerator(preproceesing_function = preprocess_input)**\n",
    "\n",
    "2.Un generador de nuestros datos de validación que no hace este tipo de aumento o un modelo de medición de calidad que utilice las mismas imágenes en bruto que usamos antes.\n",
    "\n",
    "**my_nwe_model.fit_generator(train_generator, steps_per_epoch = 12. epochs = 2, validation_data = valid_generator, validation_steps = 1)**\n",
    "Vemos cómo agregar épocas (epochs = 2): significa que revisa cada archivo de iamgen sin procesar dos veces con las que puede experimentar diferentes números de épocas. \n",
    "\n",
    "El aumento de datos permite usar más épocas antes de comenzar a sobreajustar y ver puntuaciones de validación\n",
    "\n"
   ]
  },
  {
   "cell_type": "markdown",
   "metadata": {},
   "source": [
    "**CÓDIGO**"
   ]
  },
  {
   "cell_type": "markdown",
   "metadata": {},
   "source": [
    "**Ajustar un modelo con aumento de datos**"
   ]
  },
  {
   "cell_type": "code",
   "execution_count": null,
   "metadata": {},
   "outputs": [],
   "source": [
    "from tensorflow.python.keras.applications.resnet50 import preprocess_input\n",
    "from tensorflow.python.keras.preprocessing.image import ImageDataGenerator\n",
    "\n",
    "image_size = 224\n",
    "\n",
    "data_generator_with_aug = ImageDataGenerator(preprocessing_function=preprocess_input,\n",
    "                                   horizontal_flip=True,\n",
    "                                   width_shift_range = 0.2,\n",
    "                                   height_shift_range = 0.2)\n",
    "\n",
    "train_generator = data_generator_with_aug.flow_from_directory(\n",
    "        '../input/urban-and-rural-photos/urban_and_rural_photos/train',\n",
    "        target_size=(image_size, image_size),\n",
    "        batch_size=24,\n",
    "        class_mode='categorical')\n",
    "\n",
    "data_generator_no_aug = ImageDataGenerator(preprocessing_function=preprocess_input)\n",
    "validation_generator = data_generator_no_aug.flow_from_directory(\n",
    "        '../input/urban-and-rural-photos/urban_and_rural_photos/val',\n",
    "        target_size=(image_size, image_size),\n",
    "        class_mode='categorical')\n",
    "\n",
    "my_new_model.fit_generator(\n",
    "        train_generator,\n",
    "        steps_per_epoch=3,\n",
    "        epochs=2,\n",
    "        validation_data=validation_generator,\n",
    "        validation_steps=1)\n",
    "---------------------------------------"
   ]
  },
  {
   "cell_type": "markdown",
   "metadata": {},
   "source": [
    "**Introducción al ejercicio**\n",
    "\n",
    "Volveremos al problema de rotación automática en el que trabajó en el ejercicio anterior. Pero agregaremos el aumento de datos para mejorar su modelo.\n",
    "\n",
    "La especificación del modelo y los pasos de compilación no cambian cuando comienza a utilizar el aumento de datos. El código con el que ya trabajó para especificar y compilar un modelo se encuentra en la celda a continuación. Ejecútelo para que esté listo para trabajar en el aumento de datos."
   ]
  },
  {
   "cell_type": "code",
   "execution_count": null,
   "metadata": {},
   "outputs": [],
   "source": [
    "from tensorflow.keras.applications import ResNet50\n",
    "from tensorflow.keras.models import Sequential\n",
    "from tensorflow.keras.layers import Dense, Flatten, GlobalAveragePooling2D\n",
    "\n",
    "num_classes = 2\n",
    "resnet_weights_path = '../input/resnet50/resnet50_weights_tf_dim_ordering_tf_kernels_notop.h5'\n",
    "\n",
    "my_new_model = Sequential()\n",
    "my_new_model.add(ResNet50(include_top=False, pooling='avg', weights=resnet_weights_path))\n",
    "my_new_model.add(Dense(num_classes, activation='softmax'))\n",
    "\n",
    "my_new_model.layers[0].trainable = False\n",
    "\n",
    "my_new_model.compile(optimizer='sgd', loss='categorical_crossentropy', metrics=['accuracy'])\n",
    "\n",
    "# Set up code checking\n",
    "from learntools.core import binder\n",
    "binder.bind(globals())\n",
    "from learntools.deep_learning.exercise_5 import *\n",
    "print(\"Setup Complete\")"
   ]
  },
  {
   "cell_type": "markdown",
   "metadata": {},
   "source": [
    "1) Fit the Model Using Data Augmentation"
   ]
  },
  {
   "cell_type": "code",
   "execution_count": null,
   "metadata": {},
   "outputs": [],
   "source": [
    "from tensorflow.keras.applications.resnet50 import preprocess_input\n",
    "from tensorflow.keras.preprocessing.image import ImageDataGenerator\n",
    "\n",
    "image_size = 224\n",
    "\n",
    "# Specify the values for all arguments to data_generator_with_aug.\n",
    "data_generator_with_aug = ImageDataGenerator(preprocessing_function=preprocess_input,\n",
    "                                              horizontal_flip = True,\n",
    "                                              width_shift_range = 0.1,\n",
    "                                              height_shift_range = 0.1)\n",
    "            \n",
    "data_generator_no_aug = ImageDataGenerator(preprocessing_function=preprocess_input)\n"
   ]
  },
  {
   "cell_type": "markdown",
   "metadata": {},
   "source": [
    "PREGUNTA:\n",
    "\n",
    "¿Por qué necesitamos tanto un generador con aumento como un generador sin aumento? Después de pensarlo, revisa la solución a continuación.\n",
    "\n",
    "RESPUESTA:\n",
    "\n",
    "Queremos aumentar los datos al ajustar el modelo por los motivos mencionados en el video (incluida una reducción en el sobreajuste, al proporcionarnos más datos para trabajar).\n",
    "\n",
    "Pero **no queremos cambiar la forma en que probamos el modelo.** Entonces el generador de validación usará un ImageDataGenerator sin aumento. Eso permite una comparación directa entre diferentes procedimientos de entrenamiento (por ejemplo, entrenamiento con aumento y sin él).\n",
    "\n",
    "Si el aumento hiciera más difícil predecir la etiqueta asociada con una imagen (por ejemplo, debido a cómo se recortó la imagen en el aumento), sería engañoso comparar las puntuaciones con otro procedimiento donde los datos de validación solo eran imágenes originales."
   ]
  },
  {
   "cell_type": "markdown",
   "metadata": {},
   "source": [
    "2) Choosing Augmentation Types\n",
    "\n",
    "ImageDataGenerator ofrece muchos tipos de aumento de datos. Por ejemplo, un argumento es la **rotación_rango**. Esto rota cada imagen en una cantidad aleatoria que puede ser hasta el valor que especifique.\n",
    "\n",
    "**¿Sería sensato usar la rotación automática para este problema? Por qué o por qué no**\n",
    "\n",
    "SOLUCIÓN:\n",
    "\n",
    "El objetivo de este problema es saber si una imagen está en posición vertical o lateral. Rotar las imágenes moderadamente puede causar imágenes que no se sienten bien en ninguna de las categorías.\n",
    "\n",
    "Dado que el aumento de datos afecta a las imágenes sin tocar las etiquetas, una rotación dramática significaría que algunas imágenes se usan para entrenar con la etiqueta incorrecta (por ejemplo, el generador rotará una imagen de lado y aún tendrá la etiqueta de estar en posición vertical)\n"
   ]
  },
  {
   "cell_type": "markdown",
   "metadata": {},
   "source": [
    "3) Código\n",
    "Complete las piezas que faltan en el siguiente código. Hemos suministrado algunas repeticiones. Debe pensar qué ImageDataGenerator se utiliza para cada fuente de datos."
   ]
  },
  {
   "cell_type": "code",
   "execution_count": null,
   "metadata": {},
   "outputs": [],
   "source": [
    "# Especifique qué tipo de ImageDataGenerator anterior se cargará en los datos de entrenamiento\n",
    "train_generator = data_generator_with_aug.flow_from_directory(\n",
    "        directory = '../input/dogs-gone-sideways/images/train',\n",
    "        target_size=(image_size, image_size),\n",
    "        batch_size=12,\n",
    "        class_mode='categorical')\n",
    "\n",
    "# Especifique qué tipo de ImageDataGenerator anterior debe cargar en los datos de validación\n",
    "validation_generator = data_generator_no_aug.flow_from_directory(\n",
    "        directory = '../input/dogs-gone-sideways/images/val',\n",
    "        target_size=(image_size, image_size),\n",
    "        class_mode='categorical')\n",
    "\n",
    "my_new_model.fit_generator(\n",
    "        train_generator, # si no sabes qué argumento va primero, prueba la pista\n",
    "        epochs = 3,\n",
    "        steps_per_epoch=19,\n",
    "        validation_data= validation_generator)\n",
    "\n",
    "# Check your answer\n",
    "q_3.check()"
   ]
  },
  {
   "cell_type": "markdown",
   "metadata": {},
   "source": [
    "4) ¿Ayudó el aumento de datos?\n",
    "\n",
    "¿Cómo podría probar si el aumento de datos mejoró la precisión de su modelo?\n",
    "\n",
    "RESPUESTA: \n",
    "\n",
    "Cree **train_generator** usando **data_generator_no_aug** pero no cambie otros argumentos a train_generator.\n",
    "\n",
    "Ejecute el modelo y vea la precisión resultante. Compare esto con la precisión que obtuvo cuando train_generator utilizó el aumento.\n",
    "\n",
    "Nuestro conjunto de datos de validación es muy pequeño, por lo que hay un poco de suerte o aleatoriedad en la puntuación exacta de cualquier ejecución de modelo. **Los puntajes de validación serán más confiables a medida que comience a usar conjuntos de datos más grandes.**\n",
    "\n",
    "\n",
    "Con no_aug: precisión 0.9864\n",
    "Con with_aug: precisión 0.9724"
   ]
  }
 ],
 "metadata": {
  "kernelspec": {
   "display_name": "Python 3",
   "language": "python",
   "name": "python3"
  },
  "language_info": {
   "codemirror_mode": {
    "name": "ipython",
    "version": 3
   },
   "file_extension": ".py",
   "mimetype": "text/x-python",
   "name": "python",
   "nbconvert_exporter": "python",
   "pygments_lexer": "ipython3",
   "version": "3.7.7"
  }
 },
 "nbformat": 4,
 "nbformat_minor": 2
}
